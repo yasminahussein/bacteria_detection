{
 "cells": [
  {
   "cell_type": "code",
   "execution_count": 1,
   "metadata": {
    "ExecuteTime": {
     "end_time": "2023-05-05T19:37:14.847687Z",
     "start_time": "2023-05-05T19:37:11.230250Z"
    }
   },
   "outputs": [],
   "source": [
    "import tensorflow as tf\n",
    "import tensorflow.keras as keras\n",
    "from tensorflow.keras import models, layers\n",
    "import os\n",
    "from os import listdir\n",
    "import numpy as np\n",
    "import matplotlib.pyplot as plt\n"
   ]
  },
  {
   "cell_type": "code",
   "execution_count": 2,
   "metadata": {
    "ExecuteTime": {
     "end_time": "2023-05-05T19:37:15.570029Z",
     "start_time": "2023-05-05T19:37:14.897970Z"
    }
   },
   "outputs": [],
   "source": [
    "mobile=keras.applications.mobilenet.MobileNet()"
   ]
  },
  {
   "cell_type": "code",
   "execution_count": 3,
   "metadata": {
    "ExecuteTime": {
     "end_time": "2023-05-05T19:37:15.663036Z",
     "start_time": "2023-05-05T19:37:15.620884Z"
    }
   },
   "outputs": [
    {
     "name": "stdout",
     "output_type": "stream",
     "text": [
      "Model: \"mobilenet_1.00_224\"\n",
      "_________________________________________________________________\n",
      "Layer (type)                 Output Shape              Param #   \n",
      "=================================================================\n",
      "input_1 (InputLayer)         [(None, 224, 224, 3)]     0         \n",
      "_________________________________________________________________\n",
      "conv1 (Conv2D)               (None, 112, 112, 32)      864       \n",
      "_________________________________________________________________\n",
      "conv1_bn (BatchNormalization (None, 112, 112, 32)      128       \n",
      "_________________________________________________________________\n",
      "conv1_relu (ReLU)            (None, 112, 112, 32)      0         \n",
      "_________________________________________________________________\n",
      "conv_dw_1 (DepthwiseConv2D)  (None, 112, 112, 32)      288       \n",
      "_________________________________________________________________\n",
      "conv_dw_1_bn (BatchNormaliza (None, 112, 112, 32)      128       \n",
      "_________________________________________________________________\n",
      "conv_dw_1_relu (ReLU)        (None, 112, 112, 32)      0         \n",
      "_________________________________________________________________\n",
      "conv_pw_1 (Conv2D)           (None, 112, 112, 64)      2048      \n",
      "_________________________________________________________________\n",
      "conv_pw_1_bn (BatchNormaliza (None, 112, 112, 64)      256       \n",
      "_________________________________________________________________\n",
      "conv_pw_1_relu (ReLU)        (None, 112, 112, 64)      0         \n",
      "_________________________________________________________________\n",
      "conv_pad_2 (ZeroPadding2D)   (None, 113, 113, 64)      0         \n",
      "_________________________________________________________________\n",
      "conv_dw_2 (DepthwiseConv2D)  (None, 56, 56, 64)        576       \n",
      "_________________________________________________________________\n",
      "conv_dw_2_bn (BatchNormaliza (None, 56, 56, 64)        256       \n",
      "_________________________________________________________________\n",
      "conv_dw_2_relu (ReLU)        (None, 56, 56, 64)        0         \n",
      "_________________________________________________________________\n",
      "conv_pw_2 (Conv2D)           (None, 56, 56, 128)       8192      \n",
      "_________________________________________________________________\n",
      "conv_pw_2_bn (BatchNormaliza (None, 56, 56, 128)       512       \n",
      "_________________________________________________________________\n",
      "conv_pw_2_relu (ReLU)        (None, 56, 56, 128)       0         \n",
      "_________________________________________________________________\n",
      "conv_dw_3 (DepthwiseConv2D)  (None, 56, 56, 128)       1152      \n",
      "_________________________________________________________________\n",
      "conv_dw_3_bn (BatchNormaliza (None, 56, 56, 128)       512       \n",
      "_________________________________________________________________\n",
      "conv_dw_3_relu (ReLU)        (None, 56, 56, 128)       0         \n",
      "_________________________________________________________________\n",
      "conv_pw_3 (Conv2D)           (None, 56, 56, 128)       16384     \n",
      "_________________________________________________________________\n",
      "conv_pw_3_bn (BatchNormaliza (None, 56, 56, 128)       512       \n",
      "_________________________________________________________________\n",
      "conv_pw_3_relu (ReLU)        (None, 56, 56, 128)       0         \n",
      "_________________________________________________________________\n",
      "conv_pad_4 (ZeroPadding2D)   (None, 57, 57, 128)       0         \n",
      "_________________________________________________________________\n",
      "conv_dw_4 (DepthwiseConv2D)  (None, 28, 28, 128)       1152      \n",
      "_________________________________________________________________\n",
      "conv_dw_4_bn (BatchNormaliza (None, 28, 28, 128)       512       \n",
      "_________________________________________________________________\n",
      "conv_dw_4_relu (ReLU)        (None, 28, 28, 128)       0         \n",
      "_________________________________________________________________\n",
      "conv_pw_4 (Conv2D)           (None, 28, 28, 256)       32768     \n",
      "_________________________________________________________________\n",
      "conv_pw_4_bn (BatchNormaliza (None, 28, 28, 256)       1024      \n",
      "_________________________________________________________________\n",
      "conv_pw_4_relu (ReLU)        (None, 28, 28, 256)       0         \n",
      "_________________________________________________________________\n",
      "conv_dw_5 (DepthwiseConv2D)  (None, 28, 28, 256)       2304      \n",
      "_________________________________________________________________\n",
      "conv_dw_5_bn (BatchNormaliza (None, 28, 28, 256)       1024      \n",
      "_________________________________________________________________\n",
      "conv_dw_5_relu (ReLU)        (None, 28, 28, 256)       0         \n",
      "_________________________________________________________________\n",
      "conv_pw_5 (Conv2D)           (None, 28, 28, 256)       65536     \n",
      "_________________________________________________________________\n",
      "conv_pw_5_bn (BatchNormaliza (None, 28, 28, 256)       1024      \n",
      "_________________________________________________________________\n",
      "conv_pw_5_relu (ReLU)        (None, 28, 28, 256)       0         \n",
      "_________________________________________________________________\n",
      "conv_pad_6 (ZeroPadding2D)   (None, 29, 29, 256)       0         \n",
      "_________________________________________________________________\n",
      "conv_dw_6 (DepthwiseConv2D)  (None, 14, 14, 256)       2304      \n",
      "_________________________________________________________________\n",
      "conv_dw_6_bn (BatchNormaliza (None, 14, 14, 256)       1024      \n",
      "_________________________________________________________________\n",
      "conv_dw_6_relu (ReLU)        (None, 14, 14, 256)       0         \n",
      "_________________________________________________________________\n",
      "conv_pw_6 (Conv2D)           (None, 14, 14, 512)       131072    \n",
      "_________________________________________________________________\n",
      "conv_pw_6_bn (BatchNormaliza (None, 14, 14, 512)       2048      \n",
      "_________________________________________________________________\n",
      "conv_pw_6_relu (ReLU)        (None, 14, 14, 512)       0         \n",
      "_________________________________________________________________\n",
      "conv_dw_7 (DepthwiseConv2D)  (None, 14, 14, 512)       4608      \n",
      "_________________________________________________________________\n",
      "conv_dw_7_bn (BatchNormaliza (None, 14, 14, 512)       2048      \n",
      "_________________________________________________________________\n",
      "conv_dw_7_relu (ReLU)        (None, 14, 14, 512)       0         \n",
      "_________________________________________________________________\n",
      "conv_pw_7 (Conv2D)           (None, 14, 14, 512)       262144    \n",
      "_________________________________________________________________\n",
      "conv_pw_7_bn (BatchNormaliza (None, 14, 14, 512)       2048      \n",
      "_________________________________________________________________\n",
      "conv_pw_7_relu (ReLU)        (None, 14, 14, 512)       0         \n",
      "_________________________________________________________________\n",
      "conv_dw_8 (DepthwiseConv2D)  (None, 14, 14, 512)       4608      \n",
      "_________________________________________________________________\n",
      "conv_dw_8_bn (BatchNormaliza (None, 14, 14, 512)       2048      \n",
      "_________________________________________________________________\n",
      "conv_dw_8_relu (ReLU)        (None, 14, 14, 512)       0         \n",
      "_________________________________________________________________\n",
      "conv_pw_8 (Conv2D)           (None, 14, 14, 512)       262144    \n",
      "_________________________________________________________________\n",
      "conv_pw_8_bn (BatchNormaliza (None, 14, 14, 512)       2048      \n",
      "_________________________________________________________________\n",
      "conv_pw_8_relu (ReLU)        (None, 14, 14, 512)       0         \n",
      "_________________________________________________________________\n",
      "conv_dw_9 (DepthwiseConv2D)  (None, 14, 14, 512)       4608      \n",
      "_________________________________________________________________\n",
      "conv_dw_9_bn (BatchNormaliza (None, 14, 14, 512)       2048      \n",
      "_________________________________________________________________\n",
      "conv_dw_9_relu (ReLU)        (None, 14, 14, 512)       0         \n",
      "_________________________________________________________________\n",
      "conv_pw_9 (Conv2D)           (None, 14, 14, 512)       262144    \n",
      "_________________________________________________________________\n",
      "conv_pw_9_bn (BatchNormaliza (None, 14, 14, 512)       2048      \n",
      "_________________________________________________________________\n",
      "conv_pw_9_relu (ReLU)        (None, 14, 14, 512)       0         \n",
      "_________________________________________________________________\n",
      "conv_dw_10 (DepthwiseConv2D) (None, 14, 14, 512)       4608      \n",
      "_________________________________________________________________\n",
      "conv_dw_10_bn (BatchNormaliz (None, 14, 14, 512)       2048      \n",
      "_________________________________________________________________\n",
      "conv_dw_10_relu (ReLU)       (None, 14, 14, 512)       0         \n",
      "_________________________________________________________________\n",
      "conv_pw_10 (Conv2D)          (None, 14, 14, 512)       262144    \n",
      "_________________________________________________________________\n",
      "conv_pw_10_bn (BatchNormaliz (None, 14, 14, 512)       2048      \n",
      "_________________________________________________________________\n",
      "conv_pw_10_relu (ReLU)       (None, 14, 14, 512)       0         \n",
      "_________________________________________________________________\n",
      "conv_dw_11 (DepthwiseConv2D) (None, 14, 14, 512)       4608      \n",
      "_________________________________________________________________\n",
      "conv_dw_11_bn (BatchNormaliz (None, 14, 14, 512)       2048      \n",
      "_________________________________________________________________\n",
      "conv_dw_11_relu (ReLU)       (None, 14, 14, 512)       0         \n",
      "_________________________________________________________________\n",
      "conv_pw_11 (Conv2D)          (None, 14, 14, 512)       262144    \n",
      "_________________________________________________________________\n",
      "conv_pw_11_bn (BatchNormaliz (None, 14, 14, 512)       2048      \n",
      "_________________________________________________________________\n",
      "conv_pw_11_relu (ReLU)       (None, 14, 14, 512)       0         \n",
      "_________________________________________________________________\n",
      "conv_pad_12 (ZeroPadding2D)  (None, 15, 15, 512)       0         \n",
      "_________________________________________________________________\n",
      "conv_dw_12 (DepthwiseConv2D) (None, 7, 7, 512)         4608      \n",
      "_________________________________________________________________\n",
      "conv_dw_12_bn (BatchNormaliz (None, 7, 7, 512)         2048      \n",
      "_________________________________________________________________\n",
      "conv_dw_12_relu (ReLU)       (None, 7, 7, 512)         0         \n",
      "_________________________________________________________________\n",
      "conv_pw_12 (Conv2D)          (None, 7, 7, 1024)        524288    \n",
      "_________________________________________________________________\n",
      "conv_pw_12_bn (BatchNormaliz (None, 7, 7, 1024)        4096      \n",
      "_________________________________________________________________\n",
      "conv_pw_12_relu (ReLU)       (None, 7, 7, 1024)        0         \n",
      "_________________________________________________________________\n",
      "conv_dw_13 (DepthwiseConv2D) (None, 7, 7, 1024)        9216      \n",
      "_________________________________________________________________\n",
      "conv_dw_13_bn (BatchNormaliz (None, 7, 7, 1024)        4096      \n",
      "_________________________________________________________________\n",
      "conv_dw_13_relu (ReLU)       (None, 7, 7, 1024)        0         \n",
      "_________________________________________________________________\n",
      "conv_pw_13 (Conv2D)          (None, 7, 7, 1024)        1048576   \n",
      "_________________________________________________________________\n",
      "conv_pw_13_bn (BatchNormaliz (None, 7, 7, 1024)        4096      \n",
      "_________________________________________________________________\n",
      "conv_pw_13_relu (ReLU)       (None, 7, 7, 1024)        0         \n",
      "_________________________________________________________________\n",
      "global_average_pooling2d (Gl (None, 1024)              0         \n",
      "_________________________________________________________________\n",
      "reshape_1 (Reshape)          (None, 1, 1, 1024)        0         \n",
      "_________________________________________________________________\n",
      "dropout (Dropout)            (None, 1, 1, 1024)        0         \n",
      "_________________________________________________________________\n",
      "conv_preds (Conv2D)          (None, 1, 1, 1000)        1025000   \n",
      "_________________________________________________________________\n",
      "reshape_2 (Reshape)          (None, 1000)              0         \n",
      "_________________________________________________________________\n",
      "predictions (Activation)     (None, 1000)              0         \n",
      "=================================================================\n",
      "Total params: 4,253,864\n",
      "Trainable params: 4,231,976\n",
      "Non-trainable params: 21,888\n",
      "_________________________________________________________________\n"
     ]
    }
   ],
   "source": [
    "mobile.summary()"
   ]
  },
  {
   "cell_type": "code",
   "execution_count": 4,
   "metadata": {
    "ExecuteTime": {
     "end_time": "2023-05-05T19:37:15.803105Z",
     "start_time": "2023-05-05T19:37:15.711969Z"
    },
    "scrolled": true
   },
   "outputs": [
    {
     "name": "stdout",
     "output_type": "stream",
     "text": [
      "Found 500 images belonging to 5 classes.\n",
      "Found 293 images belonging to 5 classes.\n"
     ]
    }
   ],
   "source": [
    "data = keras.preprocessing.image.ImageDataGenerator(rescale=1./255,brightness_range=[0.3,1.6],rotation_range=40, fill_mode='nearest',horizontal_flip=True, vertical_flip=True)\n",
    "train_dataset = data.flow_from_directory(\"D:/bacteria_classification/data_Augment0/\", target_size=(224,224),class_mode=\"sparse\")\n",
    "# sparse is used when categorical classification  ( binary is used with binary classification )\n",
    "test_dataset = data.flow_from_directory(\"D:/bacteria_classification/test_Augment0/\", target_size=(256, 256), class_mode=\"sparse\")"
   ]
  },
  {
   "cell_type": "code",
   "execution_count": 12,
   "metadata": {
    "ExecuteTime": {
     "end_time": "2023-05-05T22:13:06.364450Z",
     "start_time": "2023-05-05T22:13:05.046037Z"
    }
   },
   "outputs": [],
   "source": [
    "model=models.Sequential()\n",
    "for layer in mobile.layers[:-1]:\n",
    "    model.add(layer)"
   ]
  },
  {
   "cell_type": "code",
   "execution_count": 13,
   "metadata": {
    "ExecuteTime": {
     "end_time": "2023-05-05T22:13:06.508911Z",
     "start_time": "2023-05-05T22:13:06.461090Z"
    }
   },
   "outputs": [],
   "source": [
    "for layer in model.layers:\n",
    "    layer.trainable=False"
   ]
  },
  {
   "cell_type": "code",
   "execution_count": 14,
   "metadata": {
    "ExecuteTime": {
     "end_time": "2023-05-05T22:13:06.710128Z",
     "start_time": "2023-05-05T22:13:06.606227Z"
    }
   },
   "outputs": [],
   "source": [
    "model.add(keras.layers.Dense(5, activation='softmax') ) # 5 is number of classes ( must be changes )"
   ]
  },
  {
   "cell_type": "code",
   "execution_count": 15,
   "metadata": {
    "ExecuteTime": {
     "end_time": "2023-05-05T22:13:06.865019Z",
     "start_time": "2023-05-05T22:13:06.800641Z"
    }
   },
   "outputs": [],
   "source": [
    "model.compile(optimizer='adam',\n",
    "              loss='sparse_categorical_crossentropy',\n",
    "              metrics=['accuracy'])\n"
   ]
  },
  {
   "cell_type": "code",
   "execution_count": 16,
   "metadata": {
    "ExecuteTime": {
     "end_time": "2023-05-05T23:00:39.504803Z",
     "start_time": "2023-05-05T22:13:10.269634Z"
    },
    "scrolled": true
   },
   "outputs": [
    {
     "name": "stdout",
     "output_type": "stream",
     "text": [
      "Epoch 1/30\n",
      "16/16 [==============================] - 224s 14s/step - loss: 1.8430 - accuracy: 0.5240 - val_loss: 0.3433 - val_accuracy: 0.8771\n",
      "Epoch 2/30\n",
      "16/16 [==============================] - 207s 13s/step - loss: 0.2871 - accuracy: 0.9400 - val_loss: 0.1328 - val_accuracy: 0.9590\n",
      "Epoch 3/30\n",
      "16/16 [==============================] - 216s 14s/step - loss: 0.0905 - accuracy: 0.9820 - val_loss: 0.1439 - val_accuracy: 0.9659\n",
      "Epoch 4/30\n",
      "16/16 [==============================] - 197s 12s/step - loss: 0.0598 - accuracy: 0.9860 - val_loss: 0.1375 - val_accuracy: 0.9454\n",
      "Epoch 5/30\n",
      "16/16 [==============================] - 108s 7s/step - loss: 0.0360 - accuracy: 0.9900 - val_loss: 0.1326 - val_accuracy: 0.9761\n",
      "Epoch 6/30\n",
      "16/16 [==============================] - 107s 7s/step - loss: 0.0241 - accuracy: 0.9940 - val_loss: 0.1269 - val_accuracy: 0.9659\n",
      "Epoch 7/30\n",
      "16/16 [==============================] - 107s 7s/step - loss: 0.0501 - accuracy: 0.9880 - val_loss: 0.0887 - val_accuracy: 0.9761\n",
      "Epoch 8/30\n",
      "16/16 [==============================] - 83s 5s/step - loss: 0.0266 - accuracy: 0.9920 - val_loss: 0.0400 - val_accuracy: 0.9898\n",
      "Epoch 9/30\n",
      "16/16 [==============================] - 67s 4s/step - loss: 0.0333 - accuracy: 0.9920 - val_loss: 0.0742 - val_accuracy: 0.9727\n",
      "Epoch 10/30\n",
      "16/16 [==============================] - 68s 4s/step - loss: 0.0175 - accuracy: 0.9940 - val_loss: 0.0464 - val_accuracy: 0.9829\n",
      "Epoch 11/30\n",
      "16/16 [==============================] - 69s 4s/step - loss: 0.0173 - accuracy: 0.9940 - val_loss: 0.0729 - val_accuracy: 0.9693\n",
      "Epoch 12/30\n",
      "16/16 [==============================] - 67s 4s/step - loss: 0.0106 - accuracy: 0.9980 - val_loss: 0.0734 - val_accuracy: 0.9795\n",
      "Epoch 13/30\n",
      "16/16 [==============================] - 67s 4s/step - loss: 0.0080 - accuracy: 1.0000 - val_loss: 0.0237 - val_accuracy: 0.9932\n",
      "Epoch 14/30\n",
      "16/16 [==============================] - 68s 4s/step - loss: 0.0216 - accuracy: 0.9980 - val_loss: 0.0501 - val_accuracy: 0.9932\n",
      "Epoch 15/30\n",
      "16/16 [==============================] - 68s 4s/step - loss: 0.0131 - accuracy: 0.9940 - val_loss: 0.0437 - val_accuracy: 0.9863\n",
      "Epoch 16/30\n",
      "16/16 [==============================] - 68s 4s/step - loss: 0.0088 - accuracy: 0.9980 - val_loss: 0.0415 - val_accuracy: 0.9898\n",
      "Epoch 17/30\n",
      "16/16 [==============================] - 67s 4s/step - loss: 0.0069 - accuracy: 1.0000 - val_loss: 0.0596 - val_accuracy: 0.9693\n",
      "Epoch 18/30\n",
      "16/16 [==============================] - 68s 4s/step - loss: 0.0148 - accuracy: 0.9980 - val_loss: 0.0443 - val_accuracy: 0.9795\n",
      "Epoch 19/30\n",
      "16/16 [==============================] - 69s 4s/step - loss: 0.0095 - accuracy: 0.9980 - val_loss: 0.0584 - val_accuracy: 0.9761\n",
      "Epoch 20/30\n",
      "16/16 [==============================] - 69s 4s/step - loss: 0.0151 - accuracy: 0.9920 - val_loss: 0.0475 - val_accuracy: 0.9795\n",
      "Epoch 21/30\n",
      "16/16 [==============================] - 83s 5s/step - loss: 0.0138 - accuracy: 0.9980 - val_loss: 0.0541 - val_accuracy: 0.9829\n",
      "Epoch 22/30\n",
      "16/16 [==============================] - 78s 5s/step - loss: 0.0048 - accuracy: 1.0000 - val_loss: 0.0320 - val_accuracy: 0.9932\n",
      "Epoch 23/30\n",
      "16/16 [==============================] - 68s 4s/step - loss: 0.0081 - accuracy: 0.9980 - val_loss: 0.0659 - val_accuracy: 0.9693\n",
      "Epoch 24/30\n",
      "16/16 [==============================] - 67s 4s/step - loss: 0.0038 - accuracy: 1.0000 - val_loss: 0.0438 - val_accuracy: 0.9863\n",
      "Epoch 25/30\n",
      "16/16 [==============================] - 68s 4s/step - loss: 0.0025 - accuracy: 1.0000 - val_loss: 0.0464 - val_accuracy: 0.9863\n",
      "Epoch 26/30\n",
      "16/16 [==============================] - 136s 9s/step - loss: 0.0091 - accuracy: 0.9980 - val_loss: 0.0315 - val_accuracy: 0.9898\n",
      "Epoch 27/30\n",
      "16/16 [==============================] - 68s 4s/step - loss: 0.0094 - accuracy: 0.9960 - val_loss: 0.0344 - val_accuracy: 0.9795\n",
      "Epoch 28/30\n",
      "16/16 [==============================] - 69s 4s/step - loss: 0.0037 - accuracy: 1.0000 - val_loss: 0.0480 - val_accuracy: 0.9829\n",
      "Epoch 29/30\n",
      "16/16 [==============================] - 70s 4s/step - loss: 0.0044 - accuracy: 0.9980 - val_loss: 0.0584 - val_accuracy: 0.9761\n",
      "Epoch 30/30\n",
      "16/16 [==============================] - 69s 4s/step - loss: 0.0033 - accuracy: 1.0000 - val_loss: 0.0467 - val_accuracy: 0.9829\n"
     ]
    }
   ],
   "source": [
    "#round 1\n",
    "history = model.fit(train_dataset, epochs=30,batch_size=24\n",
    "                  ,validation_data = test_dataset)"
   ]
  },
  {
   "cell_type": "code",
   "execution_count": 19,
   "metadata": {
    "ExecuteTime": {
     "end_time": "2023-05-05T23:01:10.489236Z",
     "start_time": "2023-05-05T23:01:10.207725Z"
    }
   },
   "outputs": [
    {
     "data": {
      "image/png": "[encoded data removed]",
      "text/plain": [
       "<Figure size 432x288 with 1 Axes>"
      ]
     },
     "metadata": {
      "needs_background": "light"
     },
     "output_type": "display_data"
    },
    {
     "data": {
      "image/png": "[encoded data removed]",
      "text/plain": [
       "<Figure size 432x288 with 1 Axes>"
      ]
     },
     "metadata": {
      "needs_background": "light"
     },
     "output_type": "display_data"
    }
   ],
   "source": [
    "#visualization  mobileNet\n",
    "acc = history.history['accuracy']\n",
    "val_acc = history.history['val_accuracy']\n",
    "loss = history.history['loss']\n",
    "val_loss = history.history['val_loss']\n",
    "\n",
    "epochs = range(1, len(acc)+1)\n",
    "\n",
    "plt.plot(epochs, acc, 'g', label='Training accuracy')\n",
    "plt.plot(epochs, val_acc, 'r', label='Validation accuracy')\n",
    "plt.title('Training and validation accuracy')\n",
    "plt.legend()\n",
    "\n",
    "plt.figure()\n",
    "\n",
    "plt.plot(epochs, loss, 'g', label='Training loss')\n",
    "plt.plot(epochs, val_loss, 'r', label='Validation loss')\n",
    "plt.title('Training and validation loss')\n",
    "plt.legend()\n",
    "\n",
    "plt.show()"
   ]
  },
  {
   "cell_type": "code",
   "execution_count": 20,
   "metadata": {
    "ExecuteTime": {
     "end_time": "2023-05-05T23:01:39.501578Z",
     "start_time": "2023-05-05T23:01:10.538124Z"
    }
   },
   "outputs": [
    {
     "name": "stdout",
     "output_type": "stream",
     "text": [
      "10/10 [==============================] - 26s 3s/step - loss: 0.0360 - accuracy: 0.9829\n"
     ]
    },
    {
     "data": {
      "text/plain": [
       "[0.03596877679228783, 0.9829351305961609]"
      ]
     },
     "execution_count": 20,
     "metadata": {},
     "output_type": "execute_result"
    }
   ],
   "source": [
    "model.evaluate(test_dataset)"
   ]
  },
  {
   "cell_type": "code",
   "execution_count": 21,
   "metadata": {
    "ExecuteTime": {
     "end_time": "2023-05-05T23:02:32.585431Z",
     "start_time": "2023-05-05T23:01:48.446462Z"
    }
   },
   "outputs": [
    {
     "name": "stdout",
     "output_type": "stream",
     "text": [
      "16/16 [==============================] - 42s 3s/step - loss: 0.0027 - accuracy: 1.0000\n"
     ]
    },
    {
     "data": {
      "text/plain": [
       "[0.0026624335441738367, 1.0]"
      ]
     },
     "execution_count": 21,
     "metadata": {},
     "output_type": "execute_result"
    }
   ],
   "source": [
    "model.evaluate(train_dataset)"
   ]
  },
  {
   "cell_type": "code",
   "execution_count": 22,
   "metadata": {
    "ExecuteTime": {
     "end_time": "2023-05-05T23:02:43.478976Z",
     "start_time": "2023-05-05T23:02:43.460947Z"
    },
    "scrolled": true
   },
   "outputs": [
    {
     "data": {
      "text/plain": [
       "{'Candida.albicans': 0,\n",
       " 'Escherichia.coli': 1,\n",
       " 'Lactobacillus.casei': 2,\n",
       " 'Lactobacillus.jehnsenii': 3,\n",
       " 'Staphylococcus.aureus': 4}"
      ]
     },
     "execution_count": 22,
     "metadata": {},
     "output_type": "execute_result"
    }
   ],
   "source": [
    "test_dataset.class_indices"
   ]
  },
  {
   "cell_type": "code",
   "execution_count": 23,
   "metadata": {
    "ExecuteTime": {
     "end_time": "2023-05-05T23:03:03.872016Z",
     "start_time": "2023-05-05T23:02:55.259838Z"
    }
   },
   "outputs": [
    {
     "name": "stdout",
     "output_type": "stream",
     "text": [
      "INFO:tensorflow:Assets written to: mobileNet_classes9829(3)\\assets\n",
      "saved\n"
     ]
    }
   ],
   "source": [
    "# save model\n",
    "model.save('mobileNet_classes9829(3)')\n",
    "print ('saved')"
   ]
  },
  {
   "cell_type": "code",
   "execution_count": null,
   "metadata": {},
   "outputs": [],
   "source": []
  }
 ],
 "metadata": {
  "kernelspec": {
   "display_name": "Python 3",
   "language": "python",
   "name": "python3"
  },
  "language_info": {
   "codemirror_mode": {
    "name": "ipython",
    "version": 3
   },
   "file_extension": ".py",
   "mimetype": "text/x-python",
   "name": "python",
   "nbconvert_exporter": "python",
   "pygments_lexer": "ipython3",
   "version": "3.8.5"
  },
  "toc": {
   "base_numbering": 1,
   "nav_menu": {},
   "number_sections": true,
   "sideBar": true,
   "skip_h1_title": false,
   "title_cell": "Table of Contents",
   "title_sidebar": "Contents",
   "toc_cell": false,
   "toc_position": {},
   "toc_section_display": true,
   "toc_window_display": false
  },
  "varInspector": {
   "cols": {
    "lenName": 16,
    "lenType": 16,
    "lenVar": 40
   },
   "kernels_config": {
    "python": {
     "delete_cmd_postfix": "",
     "delete_cmd_prefix": "del ",
     "library": "var_list.py",
     "varRefreshCmd": "print(var_dic_list())"
    },
    "r": {
     "delete_cmd_postfix": ") ",
     "delete_cmd_prefix": "rm(",
     "library": "var_list.r",
     "varRefreshCmd": "cat(var_dic_list()) "
    }
   },
   "types_to_exclude": [
    "module",
    "function",
    "builtin_function_or_method",
    "instance",
    "_Feature"
   ],
   "window_display": false
  }
 },
 "nbformat": 4,
 "nbformat_minor": 5
}
