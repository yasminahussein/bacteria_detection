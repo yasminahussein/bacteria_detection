{
 "cells": [
  {
   "cell_type": "code",
   "execution_count": 1,
   "metadata": {},
   "outputs": [],
   "source": [
    "import pandas as pd\n",
    "import numpy as np\n",
    "from sklearn.model_selection import train_test_split\n",
    "from sklearn.linear_model import LogisticRegression\n",
    "from sklearn.metrics import accuracy_score"
   ]
  },
  {
   "cell_type": "code",
   "execution_count": 2,
   "metadata": {},
   "outputs": [
    {
     "data": {
      "text/html": [
       "<div>\n",
       "<style scoped>\n",
       "    .dataframe tbody tr th:only-of-type {\n",
       "        vertical-align: middle;\n",
       "    }\n",
       "\n",
       "    .dataframe tbody tr th {\n",
       "        vertical-align: top;\n",
       "    }\n",
       "\n",
       "    .dataframe thead th {\n",
       "        text-align: right;\n",
       "    }\n",
       "</style>\n",
       "<table border=\"1\" class=\"dataframe\">\n",
       "  <thead>\n",
       "    <tr style=\"text-align: right;\">\n",
       "      <th></th>\n",
       "      <th>RSC</th>\n",
       "      <th>PI</th>\n",
       "      <th>KR</th>\n",
       "      <th>MH</th>\n",
       "      <th>Na</th>\n",
       "      <th>SAR</th>\n",
       "      <th>SSP</th>\n",
       "      <th>EC</th>\n",
       "      <th>IWQI</th>\n",
       "      <th>USABLE</th>\n",
       "    </tr>\n",
       "  </thead>\n",
       "  <tbody>\n",
       "    <tr>\n",
       "      <th>0</th>\n",
       "      <td>0.12</td>\n",
       "      <td>59.2</td>\n",
       "      <td>0.5</td>\n",
       "      <td>39.8</td>\n",
       "      <td>33.6</td>\n",
       "      <td>1.8</td>\n",
       "      <td>33.3</td>\n",
       "      <td>1045.0</td>\n",
       "      <td>63.379762</td>\n",
       "      <td>1.0</td>\n",
       "    </tr>\n",
       "    <tr>\n",
       "      <th>1</th>\n",
       "      <td>-0.21</td>\n",
       "      <td>58.9</td>\n",
       "      <td>0.3</td>\n",
       "      <td>54.8</td>\n",
       "      <td>25.6</td>\n",
       "      <td>1.0</td>\n",
       "      <td>25.1</td>\n",
       "      <td>645.0</td>\n",
       "      <td>50.337302</td>\n",
       "      <td>1.0</td>\n",
       "    </tr>\n",
       "    <tr>\n",
       "      <th>2</th>\n",
       "      <td>-1.28</td>\n",
       "      <td>72.2</td>\n",
       "      <td>1.2</td>\n",
       "      <td>35.0</td>\n",
       "      <td>53.8</td>\n",
       "      <td>3.5</td>\n",
       "      <td>53.7</td>\n",
       "      <td>998.0</td>\n",
       "      <td>68.144246</td>\n",
       "      <td>1.0</td>\n",
       "    </tr>\n",
       "    <tr>\n",
       "      <th>3</th>\n",
       "      <td>-0.20</td>\n",
       "      <td>55.2</td>\n",
       "      <td>0.5</td>\n",
       "      <td>25.2</td>\n",
       "      <td>34.7</td>\n",
       "      <td>2.3</td>\n",
       "      <td>34.4</td>\n",
       "      <td>1516.0</td>\n",
       "      <td>64.631448</td>\n",
       "      <td>1.0</td>\n",
       "    </tr>\n",
       "    <tr>\n",
       "      <th>4</th>\n",
       "      <td>-0.33</td>\n",
       "      <td>62.5</td>\n",
       "      <td>0.4</td>\n",
       "      <td>43.8</td>\n",
       "      <td>31.1</td>\n",
       "      <td>1.3</td>\n",
       "      <td>30.8</td>\n",
       "      <td>658.0</td>\n",
       "      <td>51.432242</td>\n",
       "      <td>1.0</td>\n",
       "    </tr>\n",
       "    <tr>\n",
       "      <th>...</th>\n",
       "      <td>...</td>\n",
       "      <td>...</td>\n",
       "      <td>...</td>\n",
       "      <td>...</td>\n",
       "      <td>...</td>\n",
       "      <td>...</td>\n",
       "      <td>...</td>\n",
       "      <td>...</td>\n",
       "      <td>...</td>\n",
       "      <td>...</td>\n",
       "    </tr>\n",
       "    <tr>\n",
       "      <th>351</th>\n",
       "      <td>-1.44</td>\n",
       "      <td>67.0</td>\n",
       "      <td>0.9</td>\n",
       "      <td>35.9</td>\n",
       "      <td>52.6</td>\n",
       "      <td>2.5</td>\n",
       "      <td>53.4</td>\n",
       "      <td>1260.0</td>\n",
       "      <td>66.562897</td>\n",
       "      <td>1.0</td>\n",
       "    </tr>\n",
       "    <tr>\n",
       "      <th>352</th>\n",
       "      <td>-1.03</td>\n",
       "      <td>70.9</td>\n",
       "      <td>1.0</td>\n",
       "      <td>56.2</td>\n",
       "      <td>56.5</td>\n",
       "      <td>2.9</td>\n",
       "      <td>59.5</td>\n",
       "      <td>1207.0</td>\n",
       "      <td>79.405853</td>\n",
       "      <td>1.0</td>\n",
       "    </tr>\n",
       "    <tr>\n",
       "      <th>353</th>\n",
       "      <td>-2.97</td>\n",
       "      <td>48.1</td>\n",
       "      <td>0.4</td>\n",
       "      <td>30.9</td>\n",
       "      <td>36.7</td>\n",
       "      <td>1.3</td>\n",
       "      <td>32.9</td>\n",
       "      <td>1323.0</td>\n",
       "      <td>32.594147</td>\n",
       "      <td>0.0</td>\n",
       "    </tr>\n",
       "    <tr>\n",
       "      <th>354</th>\n",
       "      <td>-1.31</td>\n",
       "      <td>65.9</td>\n",
       "      <td>0.8</td>\n",
       "      <td>46.7</td>\n",
       "      <td>48.3</td>\n",
       "      <td>2.4</td>\n",
       "      <td>52.5</td>\n",
       "      <td>1245.0</td>\n",
       "      <td>67.644940</td>\n",
       "      <td>1.0</td>\n",
       "    </tr>\n",
       "    <tr>\n",
       "      <th>355</th>\n",
       "      <td>-2.01</td>\n",
       "      <td>57.9</td>\n",
       "      <td>0.6</td>\n",
       "      <td>51.9</td>\n",
       "      <td>39.3</td>\n",
       "      <td>1.9</td>\n",
       "      <td>45.2</td>\n",
       "      <td>1020.0</td>\n",
       "      <td>50.114980</td>\n",
       "      <td>1.0</td>\n",
       "    </tr>\n",
       "  </tbody>\n",
       "</table>\n",
       "<p>356 rows × 10 columns</p>\n",
       "</div>"
      ],
      "text/plain": [
       "      RSC    PI   KR    MH    Na  SAR   SSP      EC       IWQI  USABLE\n",
       "0    0.12  59.2  0.5  39.8  33.6  1.8  33.3  1045.0  63.379762     1.0\n",
       "1   -0.21  58.9  0.3  54.8  25.6  1.0  25.1   645.0  50.337302     1.0\n",
       "2   -1.28  72.2  1.2  35.0  53.8  3.5  53.7   998.0  68.144246     1.0\n",
       "3   -0.20  55.2  0.5  25.2  34.7  2.3  34.4  1516.0  64.631448     1.0\n",
       "4   -0.33  62.5  0.4  43.8  31.1  1.3  30.8   658.0  51.432242     1.0\n",
       "..    ...   ...  ...   ...   ...  ...   ...     ...        ...     ...\n",
       "351 -1.44  67.0  0.9  35.9  52.6  2.5  53.4  1260.0  66.562897     1.0\n",
       "352 -1.03  70.9  1.0  56.2  56.5  2.9  59.5  1207.0  79.405853     1.0\n",
       "353 -2.97  48.1  0.4  30.9  36.7  1.3  32.9  1323.0  32.594147     0.0\n",
       "354 -1.31  65.9  0.8  46.7  48.3  2.4  52.5  1245.0  67.644940     1.0\n",
       "355 -2.01  57.9  0.6  51.9  39.3  1.9  45.2  1020.0  50.114980     1.0\n",
       "\n",
       "[356 rows x 10 columns]"
      ]
     },
     "execution_count": 2,
     "metadata": {},
     "output_type": "execute_result"
    }
   ],
   "source": [
    "data = pd.read_csv(\"IrrigationWater_Final_Dataset.csv\")\n",
    "data"
   ]
  },
  {
   "cell_type": "code",
   "execution_count": 3,
   "metadata": {},
   "outputs": [
    {
     "data": {
      "text/html": [
       "<div>\n",
       "<style scoped>\n",
       "    .dataframe tbody tr th:only-of-type {\n",
       "        vertical-align: middle;\n",
       "    }\n",
       "\n",
       "    .dataframe tbody tr th {\n",
       "        vertical-align: top;\n",
       "    }\n",
       "\n",
       "    .dataframe thead th {\n",
       "        text-align: right;\n",
       "    }\n",
       "</style>\n",
       "<table border=\"1\" class=\"dataframe\">\n",
       "  <thead>\n",
       "    <tr style=\"text-align: right;\">\n",
       "      <th></th>\n",
       "      <th>RSC</th>\n",
       "      <th>PI</th>\n",
       "      <th>KR</th>\n",
       "      <th>MH</th>\n",
       "      <th>Na</th>\n",
       "      <th>SAR</th>\n",
       "      <th>SSP</th>\n",
       "      <th>EC</th>\n",
       "      <th>IWQI</th>\n",
       "      <th>USABLE</th>\n",
       "    </tr>\n",
       "  </thead>\n",
       "  <tbody>\n",
       "    <tr>\n",
       "      <th>0</th>\n",
       "      <td>0.12</td>\n",
       "      <td>59.2</td>\n",
       "      <td>0.5</td>\n",
       "      <td>39.8</td>\n",
       "      <td>33.6</td>\n",
       "      <td>1.8</td>\n",
       "      <td>33.3</td>\n",
       "      <td>1045.0</td>\n",
       "      <td>63.379762</td>\n",
       "      <td>1.0</td>\n",
       "    </tr>\n",
       "    <tr>\n",
       "      <th>1</th>\n",
       "      <td>-0.21</td>\n",
       "      <td>58.9</td>\n",
       "      <td>0.3</td>\n",
       "      <td>54.8</td>\n",
       "      <td>25.6</td>\n",
       "      <td>1.0</td>\n",
       "      <td>25.1</td>\n",
       "      <td>645.0</td>\n",
       "      <td>50.337302</td>\n",
       "      <td>1.0</td>\n",
       "    </tr>\n",
       "    <tr>\n",
       "      <th>2</th>\n",
       "      <td>-1.28</td>\n",
       "      <td>72.2</td>\n",
       "      <td>1.2</td>\n",
       "      <td>35.0</td>\n",
       "      <td>53.8</td>\n",
       "      <td>3.5</td>\n",
       "      <td>53.7</td>\n",
       "      <td>998.0</td>\n",
       "      <td>68.144246</td>\n",
       "      <td>1.0</td>\n",
       "    </tr>\n",
       "    <tr>\n",
       "      <th>3</th>\n",
       "      <td>-0.20</td>\n",
       "      <td>55.2</td>\n",
       "      <td>0.5</td>\n",
       "      <td>25.2</td>\n",
       "      <td>34.7</td>\n",
       "      <td>2.3</td>\n",
       "      <td>34.4</td>\n",
       "      <td>1516.0</td>\n",
       "      <td>64.631448</td>\n",
       "      <td>1.0</td>\n",
       "    </tr>\n",
       "    <tr>\n",
       "      <th>4</th>\n",
       "      <td>-0.33</td>\n",
       "      <td>62.5</td>\n",
       "      <td>0.4</td>\n",
       "      <td>43.8</td>\n",
       "      <td>31.1</td>\n",
       "      <td>1.3</td>\n",
       "      <td>30.8</td>\n",
       "      <td>658.0</td>\n",
       "      <td>51.432242</td>\n",
       "      <td>1.0</td>\n",
       "    </tr>\n",
       "  </tbody>\n",
       "</table>\n",
       "</div>"
      ],
      "text/plain": [
       "    RSC    PI   KR    MH    Na  SAR   SSP      EC       IWQI  USABLE\n",
       "0  0.12  59.2  0.5  39.8  33.6  1.8  33.3  1045.0  63.379762     1.0\n",
       "1 -0.21  58.9  0.3  54.8  25.6  1.0  25.1   645.0  50.337302     1.0\n",
       "2 -1.28  72.2  1.2  35.0  53.8  3.5  53.7   998.0  68.144246     1.0\n",
       "3 -0.20  55.2  0.5  25.2  34.7  2.3  34.4  1516.0  64.631448     1.0\n",
       "4 -0.33  62.5  0.4  43.8  31.1  1.3  30.8   658.0  51.432242     1.0"
      ]
     },
     "execution_count": 3,
     "metadata": {},
     "output_type": "execute_result"
    }
   ],
   "source": [
    "data.head()"
   ]
  },
  {
   "cell_type": "code",
   "execution_count": 4,
   "metadata": {},
   "outputs": [
    {
     "data": {
      "text/plain": [
       "(356, 10)"
      ]
     },
     "execution_count": 4,
     "metadata": {},
     "output_type": "execute_result"
    }
   ],
   "source": [
    "data.shape"
   ]
  },
  {
   "cell_type": "code",
   "execution_count": 5,
   "metadata": {},
   "outputs": [
    {
     "name": "stdout",
     "output_type": "stream",
     "text": [
      "<class 'pandas.core.frame.DataFrame'>\n",
      "RangeIndex: 356 entries, 0 to 355\n",
      "Data columns (total 10 columns):\n",
      " #   Column  Non-Null Count  Dtype  \n",
      "---  ------  --------------  -----  \n",
      " 0   RSC     356 non-null    float64\n",
      " 1   PI      356 non-null    float64\n",
      " 2   KR      356 non-null    float64\n",
      " 3   MH      356 non-null    float64\n",
      " 4   Na      356 non-null    float64\n",
      " 5   SAR     356 non-null    float64\n",
      " 6   SSP     356 non-null    float64\n",
      " 7   EC      356 non-null    float64\n",
      " 8   IWQI    356 non-null    float64\n",
      " 9   USABLE  356 non-null    float64\n",
      "dtypes: float64(10)\n",
      "memory usage: 27.9 KB\n"
     ]
    }
   ],
   "source": [
    "data.info()"
   ]
  },
  {
   "cell_type": "code",
   "execution_count": 6,
   "metadata": {},
   "outputs": [
    {
     "data": {
      "text/html": [
       "<div>\n",
       "<style scoped>\n",
       "    .dataframe tbody tr th:only-of-type {\n",
       "        vertical-align: middle;\n",
       "    }\n",
       "\n",
       "    .dataframe tbody tr th {\n",
       "        vertical-align: top;\n",
       "    }\n",
       "\n",
       "    .dataframe thead th {\n",
       "        text-align: right;\n",
       "    }\n",
       "</style>\n",
       "<table border=\"1\" class=\"dataframe\">\n",
       "  <thead>\n",
       "    <tr style=\"text-align: right;\">\n",
       "      <th></th>\n",
       "      <th>RSC</th>\n",
       "      <th>PI</th>\n",
       "      <th>KR</th>\n",
       "      <th>MH</th>\n",
       "      <th>Na</th>\n",
       "      <th>SAR</th>\n",
       "      <th>SSP</th>\n",
       "      <th>EC</th>\n",
       "      <th>IWQI</th>\n",
       "      <th>USABLE</th>\n",
       "    </tr>\n",
       "  </thead>\n",
       "  <tbody>\n",
       "    <tr>\n",
       "      <th>count</th>\n",
       "      <td>356.000000</td>\n",
       "      <td>356.000000</td>\n",
       "      <td>356.000000</td>\n",
       "      <td>356.000000</td>\n",
       "      <td>356.000000</td>\n",
       "      <td>356.000000</td>\n",
       "      <td>356.000000</td>\n",
       "      <td>356.000000</td>\n",
       "      <td>356.000000</td>\n",
       "      <td>356.000000</td>\n",
       "    </tr>\n",
       "    <tr>\n",
       "      <th>mean</th>\n",
       "      <td>-3.064242</td>\n",
       "      <td>37.680056</td>\n",
       "      <td>0.643820</td>\n",
       "      <td>44.016011</td>\n",
       "      <td>40.891854</td>\n",
       "      <td>7.136236</td>\n",
       "      <td>34.762360</td>\n",
       "      <td>1810.786517</td>\n",
       "      <td>49.060126</td>\n",
       "      <td>0.488764</td>\n",
       "    </tr>\n",
       "    <tr>\n",
       "      <th>std</th>\n",
       "      <td>7.917975</td>\n",
       "      <td>26.375834</td>\n",
       "      <td>0.606204</td>\n",
       "      <td>13.662433</td>\n",
       "      <td>23.917930</td>\n",
       "      <td>10.453207</td>\n",
       "      <td>19.607348</td>\n",
       "      <td>2480.481842</td>\n",
       "      <td>66.853778</td>\n",
       "      <td>0.500577</td>\n",
       "    </tr>\n",
       "    <tr>\n",
       "      <th>min</th>\n",
       "      <td>-76.220000</td>\n",
       "      <td>0.200000</td>\n",
       "      <td>0.000000</td>\n",
       "      <td>16.900000</td>\n",
       "      <td>1.500000</td>\n",
       "      <td>0.000000</td>\n",
       "      <td>1.500000</td>\n",
       "      <td>320.000000</td>\n",
       "      <td>-416.636706</td>\n",
       "      <td>0.000000</td>\n",
       "    </tr>\n",
       "    <tr>\n",
       "      <th>25%</th>\n",
       "      <td>-3.525000</td>\n",
       "      <td>0.700000</td>\n",
       "      <td>0.200000</td>\n",
       "      <td>33.875000</td>\n",
       "      <td>23.950000</td>\n",
       "      <td>1.075000</td>\n",
       "      <td>21.450000</td>\n",
       "      <td>584.000000</td>\n",
       "      <td>23.338839</td>\n",
       "      <td>0.000000</td>\n",
       "    </tr>\n",
       "    <tr>\n",
       "      <th>50%</th>\n",
       "      <td>-0.500000</td>\n",
       "      <td>43.600000</td>\n",
       "      <td>0.500000</td>\n",
       "      <td>43.700000</td>\n",
       "      <td>40.050000</td>\n",
       "      <td>2.550000</td>\n",
       "      <td>34.600000</td>\n",
       "      <td>1020.000000</td>\n",
       "      <td>48.955704</td>\n",
       "      <td>0.000000</td>\n",
       "    </tr>\n",
       "    <tr>\n",
       "      <th>75%</th>\n",
       "      <td>0.000000</td>\n",
       "      <td>56.875000</td>\n",
       "      <td>0.900000</td>\n",
       "      <td>53.425000</td>\n",
       "      <td>59.725000</td>\n",
       "      <td>8.900000</td>\n",
       "      <td>48.725000</td>\n",
       "      <td>1615.000000</td>\n",
       "      <td>75.045089</td>\n",
       "      <td>1.000000</td>\n",
       "    </tr>\n",
       "    <tr>\n",
       "      <th>max</th>\n",
       "      <td>3.660000</td>\n",
       "      <td>89.700000</td>\n",
       "      <td>3.700000</td>\n",
       "      <td>83.200000</td>\n",
       "      <td>89.400000</td>\n",
       "      <td>63.700000</td>\n",
       "      <td>83.300000</td>\n",
       "      <td>20084.000000</td>\n",
       "      <td>348.792262</td>\n",
       "      <td>1.000000</td>\n",
       "    </tr>\n",
       "  </tbody>\n",
       "</table>\n",
       "</div>"
      ],
      "text/plain": [
       "              RSC          PI          KR          MH          Na         SAR  \\\n",
       "count  356.000000  356.000000  356.000000  356.000000  356.000000  356.000000   \n",
       "mean    -3.064242   37.680056    0.643820   44.016011   40.891854    7.136236   \n",
       "std      7.917975   26.375834    0.606204   13.662433   23.917930   10.453207   \n",
       "min    -76.220000    0.200000    0.000000   16.900000    1.500000    0.000000   \n",
       "25%     -3.525000    0.700000    0.200000   33.875000   23.950000    1.075000   \n",
       "50%     -0.500000   43.600000    0.500000   43.700000   40.050000    2.550000   \n",
       "75%      0.000000   56.875000    0.900000   53.425000   59.725000    8.900000   \n",
       "max      3.660000   89.700000    3.700000   83.200000   89.400000   63.700000   \n",
       "\n",
       "              SSP            EC        IWQI      USABLE  \n",
       "count  356.000000    356.000000  356.000000  356.000000  \n",
       "mean    34.762360   1810.786517   49.060126    0.488764  \n",
       "std     19.607348   2480.481842   66.853778    0.500577  \n",
       "min      1.500000    320.000000 -416.636706    0.000000  \n",
       "25%     21.450000    584.000000   23.338839    0.000000  \n",
       "50%     34.600000   1020.000000   48.955704    0.000000  \n",
       "75%     48.725000   1615.000000   75.045089    1.000000  \n",
       "max     83.300000  20084.000000  348.792262    1.000000  "
      ]
     },
     "execution_count": 6,
     "metadata": {},
     "output_type": "execute_result"
    }
   ],
   "source": [
    "data.describe()"
   ]
  },
  {
   "cell_type": "code",
   "execution_count": 7,
   "metadata": {},
   "outputs": [
    {
     "data": {
      "text/plain": [
       "Index(['RSC', 'PI', 'KR', 'MH', 'Na', 'SAR', 'SSP', 'EC', 'IWQI', 'USABLE'], dtype='object')"
      ]
     },
     "execution_count": 7,
     "metadata": {},
     "output_type": "execute_result"
    }
   ],
   "source": [
    "data.columns"
   ]
  },
  {
   "cell_type": "code",
   "execution_count": 8,
   "metadata": {},
   "outputs": [
    {
     "data": {
      "text/plain": [
       "RangeIndex(start=0, stop=356, step=1)"
      ]
     },
     "execution_count": 8,
     "metadata": {},
     "output_type": "execute_result"
    }
   ],
   "source": [
    "data.index"
   ]
  },
  {
   "cell_type": "code",
   "execution_count": 9,
   "metadata": {},
   "outputs": [
    {
     "data": {
      "text/plain": [
       "RSC       float64\n",
       "PI        float64\n",
       "KR        float64\n",
       "MH        float64\n",
       "Na        float64\n",
       "SAR       float64\n",
       "SSP       float64\n",
       "EC        float64\n",
       "IWQI      float64\n",
       "USABLE    float64\n",
       "dtype: object"
      ]
     },
     "execution_count": 9,
     "metadata": {},
     "output_type": "execute_result"
    }
   ],
   "source": [
    "data.dtypes"
   ]
  },
  {
   "cell_type": "code",
   "execution_count": 10,
   "metadata": {},
   "outputs": [
    {
     "data": {
      "text/html": [
       "<div>\n",
       "<style scoped>\n",
       "    .dataframe tbody tr th:only-of-type {\n",
       "        vertical-align: middle;\n",
       "    }\n",
       "\n",
       "    .dataframe tbody tr th {\n",
       "        vertical-align: top;\n",
       "    }\n",
       "\n",
       "    .dataframe thead th {\n",
       "        text-align: right;\n",
       "    }\n",
       "</style>\n",
       "<table border=\"1\" class=\"dataframe\">\n",
       "  <thead>\n",
       "    <tr style=\"text-align: right;\">\n",
       "      <th></th>\n",
       "      <th>RSC</th>\n",
       "      <th>PI</th>\n",
       "      <th>KR</th>\n",
       "      <th>MH</th>\n",
       "      <th>Na</th>\n",
       "      <th>SAR</th>\n",
       "      <th>SSP</th>\n",
       "      <th>EC</th>\n",
       "      <th>IWQI</th>\n",
       "      <th>USABLE</th>\n",
       "    </tr>\n",
       "  </thead>\n",
       "  <tbody>\n",
       "    <tr>\n",
       "      <th>0</th>\n",
       "      <td>False</td>\n",
       "      <td>False</td>\n",
       "      <td>False</td>\n",
       "      <td>False</td>\n",
       "      <td>False</td>\n",
       "      <td>False</td>\n",
       "      <td>False</td>\n",
       "      <td>False</td>\n",
       "      <td>False</td>\n",
       "      <td>False</td>\n",
       "    </tr>\n",
       "    <tr>\n",
       "      <th>1</th>\n",
       "      <td>False</td>\n",
       "      <td>False</td>\n",
       "      <td>False</td>\n",
       "      <td>False</td>\n",
       "      <td>False</td>\n",
       "      <td>False</td>\n",
       "      <td>False</td>\n",
       "      <td>False</td>\n",
       "      <td>False</td>\n",
       "      <td>False</td>\n",
       "    </tr>\n",
       "    <tr>\n",
       "      <th>2</th>\n",
       "      <td>False</td>\n",
       "      <td>False</td>\n",
       "      <td>False</td>\n",
       "      <td>False</td>\n",
       "      <td>False</td>\n",
       "      <td>False</td>\n",
       "      <td>False</td>\n",
       "      <td>False</td>\n",
       "      <td>False</td>\n",
       "      <td>False</td>\n",
       "    </tr>\n",
       "    <tr>\n",
       "      <th>3</th>\n",
       "      <td>False</td>\n",
       "      <td>False</td>\n",
       "      <td>False</td>\n",
       "      <td>False</td>\n",
       "      <td>False</td>\n",
       "      <td>False</td>\n",
       "      <td>False</td>\n",
       "      <td>False</td>\n",
       "      <td>False</td>\n",
       "      <td>False</td>\n",
       "    </tr>\n",
       "    <tr>\n",
       "      <th>4</th>\n",
       "      <td>False</td>\n",
       "      <td>False</td>\n",
       "      <td>False</td>\n",
       "      <td>False</td>\n",
       "      <td>False</td>\n",
       "      <td>False</td>\n",
       "      <td>False</td>\n",
       "      <td>False</td>\n",
       "      <td>False</td>\n",
       "      <td>False</td>\n",
       "    </tr>\n",
       "    <tr>\n",
       "      <th>...</th>\n",
       "      <td>...</td>\n",
       "      <td>...</td>\n",
       "      <td>...</td>\n",
       "      <td>...</td>\n",
       "      <td>...</td>\n",
       "      <td>...</td>\n",
       "      <td>...</td>\n",
       "      <td>...</td>\n",
       "      <td>...</td>\n",
       "      <td>...</td>\n",
       "    </tr>\n",
       "    <tr>\n",
       "      <th>351</th>\n",
       "      <td>False</td>\n",
       "      <td>False</td>\n",
       "      <td>False</td>\n",
       "      <td>False</td>\n",
       "      <td>False</td>\n",
       "      <td>False</td>\n",
       "      <td>False</td>\n",
       "      <td>False</td>\n",
       "      <td>False</td>\n",
       "      <td>False</td>\n",
       "    </tr>\n",
       "    <tr>\n",
       "      <th>352</th>\n",
       "      <td>False</td>\n",
       "      <td>False</td>\n",
       "      <td>False</td>\n",
       "      <td>False</td>\n",
       "      <td>False</td>\n",
       "      <td>False</td>\n",
       "      <td>False</td>\n",
       "      <td>False</td>\n",
       "      <td>False</td>\n",
       "      <td>False</td>\n",
       "    </tr>\n",
       "    <tr>\n",
       "      <th>353</th>\n",
       "      <td>False</td>\n",
       "      <td>False</td>\n",
       "      <td>False</td>\n",
       "      <td>False</td>\n",
       "      <td>False</td>\n",
       "      <td>False</td>\n",
       "      <td>False</td>\n",
       "      <td>False</td>\n",
       "      <td>False</td>\n",
       "      <td>False</td>\n",
       "    </tr>\n",
       "    <tr>\n",
       "      <th>354</th>\n",
       "      <td>False</td>\n",
       "      <td>False</td>\n",
       "      <td>False</td>\n",
       "      <td>False</td>\n",
       "      <td>False</td>\n",
       "      <td>False</td>\n",
       "      <td>False</td>\n",
       "      <td>False</td>\n",
       "      <td>False</td>\n",
       "      <td>False</td>\n",
       "    </tr>\n",
       "    <tr>\n",
       "      <th>355</th>\n",
       "      <td>False</td>\n",
       "      <td>False</td>\n",
       "      <td>False</td>\n",
       "      <td>False</td>\n",
       "      <td>False</td>\n",
       "      <td>False</td>\n",
       "      <td>False</td>\n",
       "      <td>False</td>\n",
       "      <td>False</td>\n",
       "      <td>False</td>\n",
       "    </tr>\n",
       "  </tbody>\n",
       "</table>\n",
       "<p>356 rows × 10 columns</p>\n",
       "</div>"
      ],
      "text/plain": [
       "       RSC     PI     KR     MH     Na    SAR    SSP     EC   IWQI  USABLE\n",
       "0    False  False  False  False  False  False  False  False  False   False\n",
       "1    False  False  False  False  False  False  False  False  False   False\n",
       "2    False  False  False  False  False  False  False  False  False   False\n",
       "3    False  False  False  False  False  False  False  False  False   False\n",
       "4    False  False  False  False  False  False  False  False  False   False\n",
       "..     ...    ...    ...    ...    ...    ...    ...    ...    ...     ...\n",
       "351  False  False  False  False  False  False  False  False  False   False\n",
       "352  False  False  False  False  False  False  False  False  False   False\n",
       "353  False  False  False  False  False  False  False  False  False   False\n",
       "354  False  False  False  False  False  False  False  False  False   False\n",
       "355  False  False  False  False  False  False  False  False  False   False\n",
       "\n",
       "[356 rows x 10 columns]"
      ]
     },
     "execution_count": 10,
     "metadata": {},
     "output_type": "execute_result"
    }
   ],
   "source": [
    "data.isnull()"
   ]
  },
  {
   "cell_type": "code",
   "execution_count": 11,
   "metadata": {},
   "outputs": [
    {
     "data": {
      "text/plain": [
       "RSC       0\n",
       "PI        0\n",
       "KR        0\n",
       "MH        0\n",
       "Na        0\n",
       "SAR       0\n",
       "SSP       0\n",
       "EC        0\n",
       "IWQI      0\n",
       "USABLE    0\n",
       "dtype: int64"
      ]
     },
     "execution_count": 11,
     "metadata": {},
     "output_type": "execute_result"
    }
   ],
   "source": [
    "data.isnull().sum()"
   ]
  },
  {
   "cell_type": "code",
   "execution_count": 16,
   "metadata": {},
   "outputs": [
    {
     "data": {
      "text/plain": [
       "array([1., 0.])"
      ]
     },
     "execution_count": 16,
     "metadata": {},
     "output_type": "execute_result"
    }
   ],
   "source": [
    "data[\"USABLE\"].unique()"
   ]
  },
  {
   "cell_type": "code",
   "execution_count": 17,
   "metadata": {},
   "outputs": [],
   "source": [
    "X = data.drop([\"USABLE\"] , axis = 1 )\n",
    "Y = data[\"USABLE\"]"
   ]
  },
  {
   "cell_type": "code",
   "execution_count": 18,
   "metadata": {},
   "outputs": [
    {
     "name": "stdout",
     "output_type": "stream",
     "text": [
      "      RSC    PI   KR    MH    Na  SAR   SSP      EC       IWQI\n",
      "0    0.12  59.2  0.5  39.8  33.6  1.8  33.3  1045.0  63.379762\n",
      "1   -0.21  58.9  0.3  54.8  25.6  1.0  25.1   645.0  50.337302\n",
      "2   -1.28  72.2  1.2  35.0  53.8  3.5  53.7   998.0  68.144246\n",
      "3   -0.20  55.2  0.5  25.2  34.7  2.3  34.4  1516.0  64.631448\n",
      "4   -0.33  62.5  0.4  43.8  31.1  1.3  30.8   658.0  51.432242\n",
      "..    ...   ...  ...   ...   ...  ...   ...     ...        ...\n",
      "351 -1.44  67.0  0.9  35.9  52.6  2.5  53.4  1260.0  66.562897\n",
      "352 -1.03  70.9  1.0  56.2  56.5  2.9  59.5  1207.0  79.405853\n",
      "353 -2.97  48.1  0.4  30.9  36.7  1.3  32.9  1323.0  32.594147\n",
      "354 -1.31  65.9  0.8  46.7  48.3  2.4  52.5  1245.0  67.644940\n",
      "355 -2.01  57.9  0.6  51.9  39.3  1.9  45.2  1020.0  50.114980\n",
      "\n",
      "[356 rows x 9 columns]\n"
     ]
    }
   ],
   "source": [
    "print (X)"
   ]
  },
  {
   "cell_type": "code",
   "execution_count": 19,
   "metadata": {},
   "outputs": [
    {
     "name": "stdout",
     "output_type": "stream",
     "text": [
      "(356, 9) (284, 9) (72, 9)\n"
     ]
    }
   ],
   "source": [
    "X_train , X_test ,Y_train , Y_test = train_test_split(X , Y , test_size= 0.2 , stratify=Y , random_state=2)\n",
    "print(X.shape , X_train.shape , X_test.shape)"
   ]
  },
  {
   "cell_type": "code",
   "execution_count": 20,
   "metadata": {},
   "outputs": [],
   "source": [
    "model = LogisticRegression()"
   ]
  },
  {
   "cell_type": "code",
   "execution_count": 21,
   "metadata": {},
   "outputs": [
    {
     "name": "stderr",
     "output_type": "stream",
     "text": [
      "C:\\Users\\omar\\Anaconda3\\lib\\site-packages\\sklearn\\linear_model\\_logistic.py:762: ConvergenceWarning: lbfgs failed to converge (status=1):\n",
      "STOP: TOTAL NO. of ITERATIONS REACHED LIMIT.\n",
      "\n",
      "Increase the number of iterations (max_iter) or scale the data as shown in:\n",
      "    https://scikit-learn.org/stable/modules/preprocessing.html\n",
      "Please also refer to the documentation for alternative solver options:\n",
      "    https://scikit-learn.org/stable/modules/linear_model.html#logistic-regression\n",
      "  n_iter_i = _check_optimize_result(\n"
     ]
    },
    {
     "data": {
      "text/plain": [
       "LogisticRegression()"
      ]
     },
     "execution_count": 21,
     "metadata": {},
     "output_type": "execute_result"
    }
   ],
   "source": [
    "model.fit(X_train,Y_train)"
   ]
  },
  {
   "cell_type": "code",
   "execution_count": 22,
   "metadata": {},
   "outputs": [
    {
     "name": "stdout",
     "output_type": "stream",
     "text": [
      "Accuracy for training data :  0.9507042253521126\n"
     ]
    }
   ],
   "source": [
    "X_train_prediction = model.predict(X_train)\n",
    "training_data_accuracy = accuracy_score(X_train_prediction , Y_train)\n",
    "print(\"Accuracy for training data : \" ,training_data_accuracy)"
   ]
  },
  {
   "cell_type": "code",
   "execution_count": 23,
   "metadata": {},
   "outputs": [
    {
     "name": "stdout",
     "output_type": "stream",
     "text": [
      "Accuracy for testing data :  0.9305555555555556\n"
     ]
    }
   ],
   "source": [
    "X_test_prediction = model.predict(X_test)\n",
    "test_data_accuracy = accuracy_score(X_test_prediction , Y_test)\n",
    "print(\"Accuracy for testing data : \" ,test_data_accuracy)"
   ]
  },
  {
   "cell_type": "code",
   "execution_count": 31,
   "metadata": {},
   "outputs": [],
   "source": [
    "input_data = (0.0,0.4,1.6,44.3,70.9,21.8,55.4,1480.0,100.29156746031747)\n",
    "input_data_as_nparray = np.asarray(input_data) "
   ]
  },
  {
   "cell_type": "code",
   "execution_count": 32,
   "metadata": {},
   "outputs": [
    {
     "data": {
      "text/plain": [
       "2"
      ]
     },
     "execution_count": 32,
     "metadata": {},
     "output_type": "execute_result"
    }
   ],
   "source": [
    "X_train.ndim"
   ]
  },
  {
   "cell_type": "code",
   "execution_count": 33,
   "metadata": {},
   "outputs": [
    {
     "data": {
      "text/plain": [
       "1"
      ]
     },
     "execution_count": 33,
     "metadata": {},
     "output_type": "execute_result"
    }
   ],
   "source": [
    " input_data_as_nparray.ndim"
   ]
  },
  {
   "cell_type": "code",
   "execution_count": 34,
   "metadata": {},
   "outputs": [],
   "source": [
    "input_data_reshaped = input_data_as_nparray.reshape(1,-1)"
   ]
  },
  {
   "cell_type": "code",
   "execution_count": 35,
   "metadata": {},
   "outputs": [
    {
     "data": {
      "text/plain": [
       "2"
      ]
     },
     "execution_count": 35,
     "metadata": {},
     "output_type": "execute_result"
    }
   ],
   "source": [
    "input_data_reshaped.ndim"
   ]
  },
  {
   "cell_type": "code",
   "execution_count": 36,
   "metadata": {},
   "outputs": [
    {
     "name": "stdout",
     "output_type": "stream",
     "text": [
      "[1.]\n",
      " usable \n"
     ]
    }
   ],
   "source": [
    "prediction = model.predict(input_data_reshaped )\n",
    "print(prediction)\n",
    "if (prediction[0] == 0 ):\n",
    "    print(\" not usable \")\n",
    "else :\n",
    "    print(\" usable \")"
   ]
  },
  {
   "cell_type": "code",
   "execution_count": null,
   "metadata": {},
   "outputs": [],
   "source": []
  }
 ],
 "metadata": {
  "kernelspec": {
   "display_name": "Python 3",
   "language": "python",
   "name": "python3"
  },
  "language_info": {
   "codemirror_mode": {
    "name": "ipython",
    "version": 3
   },
   "file_extension": ".py",
   "mimetype": "text/x-python",
   "name": "python",
   "nbconvert_exporter": "python",
   "pygments_lexer": "ipython3",
   "version": "3.8.5"
  }
 },
 "nbformat": 4,
 "nbformat_minor": 4
}
