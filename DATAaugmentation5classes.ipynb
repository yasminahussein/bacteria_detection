{
 "cells": [
  {
   "cell_type": "code",
   "execution_count": 1,
   "metadata": {
    "ExecuteTime": {
     "end_time": "2023-03-26T23:32:36.993741Z",
     "start_time": "2023-03-26T23:32:36.827091Z"
    }
   },
   "outputs": [],
   "source": [
    "import Augmentor"
   ]
  },
  {
   "cell_type": "code",
   "execution_count": 6,
   "metadata": {
    "ExecuteTime": {
     "end_time": "2023-02-22T03:32:13.792294Z",
     "start_time": "2023-02-22T03:30:43.077474Z"
    }
   },
   "outputs": [
    {
     "name": "stderr",
     "output_type": "stream",
     "text": [
      "\r",
      "Executing Pipeline:   0%|                                                                | 0/100 [00:00<?, ? Samples/s]"
     ]
    },
    {
     "name": "stdout",
     "output_type": "stream",
     "text": [
      "Initialised with 13 image(s) found.\n",
      "Output directory set to D:/bacteria_classification/data/Candida.albicans\\output."
     ]
    },
    {
     "name": "stderr",
     "output_type": "stream",
     "text": [
      "Processing <PIL.Image.Image image mode=RGB size=2048x1532 at 0x191CB0F0280>: 100%|█| 100/100 [01:23<00:00,  1.20 Sample\n"
     ]
    }
   ],
   "source": [
    "p = Augmentor.Pipeline(\"D:/bacteria_classification/data_Augment0/Candida.albicans\")\n",
    "p.rotate(probability=0.7, max_left_rotation=5, max_right_rotation=5)\n",
    "p.zoom(probability=0.3, min_factor=1.2, max_factor=1.5)\n",
    "p.sample(100)"
   ]
  },
  {
   "cell_type": "code",
   "execution_count": 10,
   "metadata": {
    "ExecuteTime": {
     "end_time": "2023-02-22T03:38:31.293871Z",
     "start_time": "2023-02-22T03:36:53.499827Z"
    }
   },
   "outputs": [
    {
     "name": "stderr",
     "output_type": "stream",
     "text": [
      "\r",
      "Executing Pipeline:   0%|                                                                | 0/100 [00:00<?, ? Samples/s]"
     ]
    },
    {
     "name": "stdout",
     "output_type": "stream",
     "text": [
      "Initialised with 14 image(s) found.\n",
      "Output directory set to D:/bacteria_classification/data/Escherichia.coli/output."
     ]
    },
    {
     "name": "stderr",
     "output_type": "stream",
     "text": [
      "Processing <PIL.TiffImagePlugin.TiffImageFile image mode=RGB size=2048x1532 at 0x191D56EED90>: 100%|█| 100/100 [01:25<0\n"
     ]
    }
   ],
   "source": [
    "p = Augmentor.Pipeline(\"D:/bacteria_classification/data_Augment0/Escherichia.coli/\")\n",
    "p.rotate(probability=0.7, max_left_rotation=5, max_right_rotation=5)\n",
    "p.zoom(probability=0.3, min_factor=1.2, max_factor=1.5)\n",
    "p.sample(100)"
   ]
  },
  {
   "cell_type": "code",
   "execution_count": 12,
   "metadata": {
    "ExecuteTime": {
     "end_time": "2023-02-22T03:41:37.095312Z",
     "start_time": "2023-02-22T03:40:08.765844Z"
    }
   },
   "outputs": [
    {
     "name": "stderr",
     "output_type": "stream",
     "text": [
      "\r",
      "Executing Pipeline:   0%|                                                                | 0/100 [00:00<?, ? Samples/s]"
     ]
    },
    {
     "name": "stdout",
     "output_type": "stream",
     "text": [
      "Initialised with 13 image(s) found.\n",
      "Output directory set to D:/bacteria_classification/data/Lactobacillus.casei/output."
     ]
    },
    {
     "name": "stderr",
     "output_type": "stream",
     "text": [
      "Processing <PIL.Image.Image image mode=RGB size=2048x1532 at 0x191DF00A100>: 100%|█| 100/100 [01:16<00:00,  1.30 Sample\n"
     ]
    }
   ],
   "source": [
    "p = Augmentor.Pipeline(\"D:/bacteria_classification/data_Augment0/Lactobacillus.casei/\")\n",
    "p.rotate(probability=0.7, max_left_rotation=5, max_right_rotation=5)\n",
    "p.zoom(probability=0.3, min_factor=1.2, max_factor=1.5)\n",
    "p.sample(100)"
   ]
  },
  {
   "cell_type": "code",
   "execution_count": 16,
   "metadata": {
    "ExecuteTime": {
     "end_time": "2023-02-22T03:46:21.771583Z",
     "start_time": "2023-02-22T03:45:19.149965Z"
    }
   },
   "outputs": [
    {
     "name": "stderr",
     "output_type": "stream",
     "text": [
      "\r",
      "Executing Pipeline:   0%|                                                                | 0/100 [00:00<?, ? Samples/s]"
     ]
    },
    {
     "name": "stdout",
     "output_type": "stream",
     "text": [
      "Initialised with 17 image(s) found.\n",
      "Output directory set to D:/bacteria_classification/data/Lactobacillus.jehnsenii/output."
     ]
    },
    {
     "name": "stderr",
     "output_type": "stream",
     "text": [
      "Processing <PIL.Image.Image image mode=RGB size=2048x1532 at 0x191CCA16490>: 100%|█| 100/100 [00:58<00:00,  1.71 Sample\n"
     ]
    }
   ],
   "source": [
    "p = Augmentor.Pipeline(\"D:/bacteria_classification/data_Augment0/Lactobacillus.jehnsenii/\")\n",
    "p.rotate(probability=0.7, max_left_rotation=5, max_right_rotation=5)\n",
    "p.zoom(probability=0.3, min_factor=1.2, max_factor=1.5)\n",
    "p.sample(100)"
   ]
  },
  {
   "cell_type": "code",
   "execution_count": 32,
   "metadata": {
    "ExecuteTime": {
     "end_time": "2023-02-22T03:57:48.073925Z",
     "start_time": "2023-02-22T03:57:30.980850Z"
    }
   },
   "outputs": [
    {
     "name": "stderr",
     "output_type": "stream",
     "text": [
      "\r",
      "Executing Pipeline:   0%|                                                                | 0/100 [00:00<?, ? Samples/s]"
     ]
    },
    {
     "name": "stdout",
     "output_type": "stream",
     "text": [
      "Initialised with 14 image(s) found.\n",
      "Output directory set to D:/bacteria_classification/data/Staphylococcus.aureus/output."
     ]
    },
    {
     "name": "stderr",
     "output_type": "stream",
     "text": [
      "Processing <PIL.Image.Image image mode=RGB size=2048x1532 at 0x19180E49490>: 100%|█| 100/100 [00:13<00:00,  7.20 Sample\n"
     ]
    }
   ],
   "source": [
    "p = Augmentor.Pipeline(\"D:/bacteria_classification/data_Augment0/Staphylococcus.aureus/\")\n",
    "p.rotate(probability=0.7, max_left_rotation=5, max_right_rotation=5)\n",
    "p.zoom(probability=0.3, min_factor=1.2, max_factor=1.5)\n",
    "p.sample(100)"
   ]
  }
 ],
 "metadata": {
  "kernelspec": {
   "display_name": "Python 3",
   "language": "python",
   "name": "python3"
  },
  "language_info": {
   "codemirror_mode": {
    "name": "ipython",
    "version": 3
   },
   "file_extension": ".py",
   "mimetype": "text/x-python",
   "name": "python",
   "nbconvert_exporter": "python",
   "pygments_lexer": "ipython3",
   "version": "3.8.5"
  },
  "toc": {
   "base_numbering": 1,
   "nav_menu": {},
   "number_sections": true,
   "sideBar": true,
   "skip_h1_title": false,
   "title_cell": "Table of Contents",
   "title_sidebar": "Contents",
   "toc_cell": false,
   "toc_position": {},
   "toc_section_display": true,
   "toc_window_display": false
  },
  "varInspector": {
   "cols": {
    "lenName": 16,
    "lenType": 16,
    "lenVar": 40
   },
   "kernels_config": {
    "python": {
     "delete_cmd_postfix": "",
     "delete_cmd_prefix": "del ",
     "library": "var_list.py",
     "varRefreshCmd": "print(var_dic_list())"
    },
    "r": {
     "delete_cmd_postfix": ") ",
     "delete_cmd_prefix": "rm(",
     "library": "var_list.r",
     "varRefreshCmd": "cat(var_dic_list()) "
    }
   },
   "types_to_exclude": [
    "module",
    "function",
    "builtin_function_or_method",
    "instance",
    "_Feature"
   ],
   "window_display": false
  }
 },
 "nbformat": 4,
 "nbformat_minor": 5
}
